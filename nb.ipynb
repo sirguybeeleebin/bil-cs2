{
 "cells": [
  {
   "cell_type": "code",
   "execution_count": 1,
   "id": "57fb9f03",
   "metadata": {},
   "outputs": [],
   "source": [
    "from ml.load_data import get_game_ids"
   ]
  },
  {
   "cell_type": "code",
   "execution_count": 3,
   "id": "14f270ef",
   "metadata": {},
   "outputs": [],
   "source": [
    "game_ids = get_game_ids(\"data/games_raw\")"
   ]
  },
  {
   "cell_type": "code",
   "execution_count": 5,
   "id": "bf9d5785",
   "metadata": {},
   "outputs": [],
   "source": [
    "game_ids_train, game_ids_test = game_ids[:-100], game_ids[-100:]"
   ]
  },
  {
   "cell_type": "code",
   "execution_count": null,
   "id": "0b9a87b0",
   "metadata": {},
   "outputs": [],
   "source": [
    "import json\n",
    "from collections import defaultdict\n",
    "import numpy as np\n",
    "\n",
    "player_kills_dict = {}\n",
    "\n",
    "rows = []\n",
    "for game_id in game_ids_train:\n",
    "    with open(f\"data/games_raw/{game_id}.json\", \"r\") as f:\n",
    "        game = json.load(f)\n",
    "        \n",
    "    d = {p[\"player\"][\"id\"]: p.get(\"kills\", 0) or 0 for p in game[\"players\"]}\n",
    "    \n",
    "    dd = defaultdict(list)\n",
    "    for p in game[\"players\"]:\n",
    "        dd[p[\"team\"][\"id\"]].append(p[\"player\"][\"id\"])\n",
    "        \n",
    "    t1_id, t2_id = np.sort(list(dd.keys()))\n",
    "    \n",
    "    row = []\n",
    "    for t_id in [t1_id, t2_id]:\n",
    "        for p_id in np.sort(dd[t_id]):\n",
    "            row.append(player_kills_dict.get(p_id, 0))\n",
    "    rows.append(row)\n",
    "            \n",
    "    for t_id in [t1_id, t2_id]:\n",
    "        for p_id in np.sort(dd[t_id]):\n",
    "        \n",
    "        \n",
    "    \n",
    "    \n",
    "    \n",
    "    \n",
    "    break"
   ]
  },
  {
   "cell_type": "code",
   "execution_count": null,
   "id": "a79fa01d",
   "metadata": {},
   "outputs": [
    {
     "data": {
      "text/plain": [
       "{17525: 19,\n",
       " 17539: 9,\n",
       " 17540: 18,\n",
       " 17542: 20,\n",
       " 17570: 23,\n",
       " 17808: 10,\n",
       " 17809: 5,\n",
       " 17811: 6,\n",
       " 17833: 12,\n",
       " 17834: 15}"
      ]
     },
     "execution_count": 10,
     "metadata": {},
     "output_type": "execute_result"
    }
   ],
   "source": []
  },
  {
   "cell_type": "code",
   "execution_count": null,
   "id": "389f145f",
   "metadata": {},
   "outputs": [],
   "source": []
  },
  {
   "cell_type": "code",
   "execution_count": null,
   "id": "14c3c013",
   "metadata": {},
   "outputs": [],
   "source": []
  },
  {
   "cell_type": "code",
   "execution_count": null,
   "id": "1514105a",
   "metadata": {},
   "outputs": [],
   "source": []
  },
  {
   "cell_type": "code",
   "execution_count": null,
   "id": "9504db84",
   "metadata": {},
   "outputs": [],
   "source": []
  },
  {
   "cell_type": "code",
   "execution_count": null,
   "id": "f02f9ec3",
   "metadata": {},
   "outputs": [],
   "source": []
  },
  {
   "cell_type": "code",
   "execution_count": null,
   "id": "e79e5998",
   "metadata": {},
   "outputs": [],
   "source": []
  },
  {
   "cell_type": "code",
   "execution_count": null,
   "id": "e2c9f635",
   "metadata": {},
   "outputs": [],
   "source": []
  },
  {
   "cell_type": "code",
   "execution_count": null,
   "id": "f210d70d",
   "metadata": {},
   "outputs": [],
   "source": []
  }
 ],
 "metadata": {
  "language_info": {
   "name": "python"
  }
 },
 "nbformat": 4,
 "nbformat_minor": 5
}
